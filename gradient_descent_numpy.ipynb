{
 "cells": [
  {
   "cell_type": "markdown",
   "metadata": {},
   "source": [
    "### Gradient Descent example  (Linear Regression) using Numpy Vector Operations"
   ]
  },
  {
   "cell_type": "markdown",
   "metadata": {},
   "source": [
    "##### Below is a simple framework for building a basic Neural Network:\n",
    "\n",
    "Define the model features\n",
    "\n",
    "Prepare the Dataset\n",
    "\n",
    "Initialize the model's parameters\n",
    "Loop:\n",
    "Calculate current loss (forward propagation)\n",
    "Calculate current gradient (backward propagation)\n",
    "Update parameters (gradient descent)\n",
    "\n",
    "Use the parameters for output predictions"
   ]
  },
  {
   "cell_type": "code",
   "execution_count": 238,
   "metadata": {
    "collapsed": true
   },
   "outputs": [],
   "source": [
    "import numpy as np"
   ]
  },
  {
   "cell_type": "code",
   "execution_count": 314,
   "metadata": {
    "collapsed": true
   },
   "outputs": [],
   "source": [
    "def load_data():\n",
    "    \n",
    "    #Loading the dataset.\n",
    "    dataset = np.genfromtxt('data_points.csv', delimiter=\",\")\n",
    "    \n",
    "    X = dataset[:, 0]\n",
    "    Y = dataset[:, 1]\n",
    "    \n",
    "    return (X,Y)"
   ]
  },
  {
   "cell_type": "code",
   "execution_count": 315,
   "metadata": {
    "collapsed": true
   },
   "outputs": [],
   "source": [
    "def initialise_param(dim):\n",
    "    w = np.zeros(dim)\n",
    "    b = 0\n",
    "    return [w, b]"
   ]
  },
  {
   "cell_type": "code",
   "execution_count": 316,
   "metadata": {
    "collapsed": true
   },
   "outputs": [],
   "source": [
    "def activation(w, b, X):\n",
    "    return np.add(np.multiply(w,X), b)"
   ]
  },
  {
   "cell_type": "markdown",
   "metadata": {},
   "source": [
    "References to understand the Cost, Gradients:\n",
    "\n",
    "http://ml-cheatsheet.readthedocs.io/en/latest/linear_regression.html\n",
    "\n",
    "https://github.com/mattnedrich/GradientDescentExample\n",
    "\n",
    "https://www.youtube.com/watch?v=XdM6ER7zTLk&index=2&list=PL2-dafEMk2A7YdKv4XfKpfbTH5z6rEEj3"
   ]
  },
  {
   "cell_type": "code",
   "execution_count": 317,
   "metadata": {
    "collapsed": true
   },
   "outputs": [],
   "source": [
    "def propagate_step(w,b,X,Y):\n",
    "    \n",
    "    #Number of Examples\n",
    "    m = float(X.shape[0])\n",
    "    \n",
    "    #Activation (prediction for the step)\n",
    "    A = activation(w, b, X)\n",
    "        \n",
    "    #Cost\n",
    "    cost = (1/m) * (np.sum(np.square(Y-A)))\n",
    "    \n",
    "    #Gradients\n",
    "    dw = (-2/m)*(np.dot(X,(Y-A).T))\n",
    "    db = (-2/m)*np.sum(Y-A)\n",
    "    \n",
    "    grads = {'dw':dw,\n",
    "            'db':db}\n",
    "    \n",
    "    return grads, cost"
   ]
  },
  {
   "cell_type": "code",
   "execution_count": 318,
   "metadata": {
    "collapsed": true
   },
   "outputs": [],
   "source": [
    "def optimise(w, b, X, Y, num_iterations=2000, learning_rate=0.0001):\n",
    "    \n",
    "    costs =[]\n",
    "    \n",
    "    for i in range(num_iterations):\n",
    "        \n",
    "        grads, cost = propagate_step(w, b, X, Y)\n",
    "        \n",
    "        if i%100==0:\n",
    "            costs.append(cost)\n",
    "            print \"Iteration {itr} : Weights w: {w}, b: {b}, Cost: {cst}\".format(itr =i, w=w, b=b, cst=cost)\n",
    "            \n",
    "        w = w - learning_rate*grads['dw']\n",
    "        b = b - learning_rate*grads['db']\n",
    "            \n",
    "    params = {'w': w, \n",
    "             'b':b}\n",
    "\n",
    "    return params, grads, costs"
   ]
  },
  {
   "cell_type": "code",
   "execution_count": 319,
   "metadata": {
    "collapsed": true
   },
   "outputs": [],
   "source": [
    "def prediction (w, b, X):\n",
    "    \n",
    "    return activation(w, b, X)"
   ]
  },
  {
   "cell_type": "code",
   "execution_count": 320,
   "metadata": {},
   "outputs": [
    {
     "name": "stdout",
     "output_type": "stream",
     "text": [
      "Iteration 0 : Weights w: [0.], b: 0, Cost: 5565.10783449\n",
      "Iteration 100 : Weights w: [1.47880272], b: 0.0350749705952, Cost: 112.647056628\n",
      "Iteration 200 : Weights w: [1.47868474], b: 0.0410776713033, Cost: 112.643452008\n",
      "Iteration 300 : Weights w: [1.47856684], b: 0.0470758430193, Cost: 112.639852825\n",
      "Iteration 400 : Weights w: [1.47844904], b: 0.0530694891604, Cost: 112.636259071\n",
      "Iteration 500 : Weights w: [1.47833133], b: 0.0590586131412, Cost: 112.632670738\n",
      "Iteration 600 : Weights w: [1.4782137], b: 0.0650432183735, Cost: 112.629087818\n",
      "Iteration 700 : Weights w: [1.47809616], b: 0.0710233082667, Cost: 112.625510303\n",
      "Iteration 800 : Weights w: [1.47797872], b: 0.0769988862276, Cost: 112.621938183\n",
      "Iteration 900 : Weights w: [1.47786136], b: 0.0829699556604, Cost: 112.618371452\n",
      "Iteration 1000 : Weights w: [1.47774409], b: 0.0889365199668, Cost: 112.614810101\n",
      "Iteration 1100 : Weights w: [1.4776269], b: 0.0948985825459, Cost: 112.611254122\n",
      "Iteration 1200 : Weights w: [1.47750981], b: 0.100856146794, Cost: 112.607703507\n",
      "Iteration 1300 : Weights w: [1.4773928], b: 0.106809216105, Cost: 112.604158248\n",
      "Iteration 1400 : Weights w: [1.47727589], b: 0.112757793871, Cost: 112.600618336\n",
      "Iteration 1500 : Weights w: [1.47715906], b: 0.11870188348, Cost: 112.597083765\n",
      "Iteration 1600 : Weights w: [1.47704231], b: 0.124641488319, Cost: 112.593554524\n",
      "Iteration 1700 : Weights w: [1.47692566], b: 0.130576611771, Cost: 112.590030608\n",
      "Iteration 1800 : Weights w: [1.4768091], b: 0.136507257218, Cost: 112.586512006\n",
      "Iteration 1900 : Weights w: [1.47669262], b: 0.142433428038, Cost: 112.582998713\n",
      "[32.6330322]\n"
     ]
    }
   ],
   "source": [
    "if __name__ == '__main__':\n",
    "    \n",
    "    X, Y = load_data()\n",
    "        \n",
    "    w, b = initialise_param((1,))\n",
    "    \n",
    "    params, _, _ = optimise(w, b , X, Y, num_iterations=2000, learning_rate=0.0001)\n",
    "    \n",
    "    X_required = np.array([22.00,])\n",
    "    \n",
    "    print prediction(params['w'], params['b'], X_required)"
   ]
  }
 ],
 "metadata": {
  "kernelspec": {
   "display_name": "Python 2",
   "language": "python",
   "name": "python2"
  },
  "language_info": {
   "codemirror_mode": {
    "name": "ipython",
    "version": 2
   },
   "file_extension": ".py",
   "mimetype": "text/x-python",
   "name": "python",
   "nbconvert_exporter": "python",
   "pygments_lexer": "ipython2",
   "version": "2.7.13"
  }
 },
 "nbformat": 4,
 "nbformat_minor": 2
}
